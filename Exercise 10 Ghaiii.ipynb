{
 "cells": [
  {
   "cell_type": "code",
   "execution_count": 1,
   "id": "ab52c695",
   "metadata": {},
   "outputs": [
    {
     "name": "stdout",
     "output_type": "stream",
     "text": [
      "3\n"
     ]
    }
   ],
   "source": [
    "def game_with_cells(m, n):\n",
    "    if m>=2 and n>=2:\n",
    "        if m*n%4 == 0:\n",
    "            num = m*n//4\n",
    "        elif m*n%2 == 0 and m*n%4 != 0:\n",
    "            num = m*n//4 + m%n//2\n",
    "        else :\n",
    "            num = (m//2*2)*(n//2*2)/4 + m//2+n//2 + m*n%2\n",
    "    if m>1 or n>1:  \n",
    "        if (m%2 == 0 and n<2) or (n%2 == 0 and m<2):\n",
    "            num = m*n//2\n",
    "        elif m%2 != 0 and n%2 != 0:\n",
    "            num = m*n//2 + m%n\n",
    "    else:\n",
    "        num = 1\n",
    "    return num\n",
    "print(game_with_cells(1,5))"
   ]
  },
  {
   "cell_type": "code",
   "execution_count": 2,
   "id": "5563ecd4",
   "metadata": {},
   "outputs": [
    {
     "name": "stdout",
     "output_type": "stream",
     "text": [
      "This is a secret\n"
     ]
    }
   ],
   "source": [
    "def decrypt_caesar_cipher(sentence, n):\n",
    "    sentence = list(sentence.strip(\" \"))\n",
    "    for i in range(len(sentence)):\n",
    "        alphabet_upper = [\"A\", \"B\", \"C\", \"D\", \"E\", \"F\", \"G\", \"H\", \"I\", \"J\", \"K\", \"L\", \"M\", \"N\", \"O\", \"P\", \"Q\", \"R\", \"S\", \"T\", \"U\", \"V\", \"W\", \"X\", \"Y\", \"Z\"]\n",
    "        alphabet_lower = [\"a\", \"b\", \"c\", \"d\", \"e\", \"f\", \"g\", \"h\", \"i\", \"j\", \"k\", \"l\", \"m\", \"n\", \"o\", \"p\", \"q\", \"r\", \"s\", \"t\", \"u\", \"v\", \"w\", \"x\", \"y\", \"z\"]\n",
    "        for j in range(len(alphabet_upper)):\n",
    "            if sentence[i] == alphabet_upper[j]:\n",
    "                sentence[i] = alphabet_upper[j - n]\n",
    "                break\n",
    "            elif sentence[i] == alphabet_lower[j]:\n",
    "                sentence[i] = alphabet_lower[j - n]\n",
    "                break\n",
    "    sentence = \"\".join(sentence)\n",
    "    return sentence\n",
    "print(decrypt_caesar_cipher(\"Aopz pz h zljyla\", 7))"
   ]
  },
  {
   "cell_type": "code",
   "execution_count": null,
   "id": "da3f9e1c",
   "metadata": {},
   "outputs": [],
   "source": []
  }
 ],
 "metadata": {
  "kernelspec": {
   "display_name": "Python 3 (ipykernel)",
   "language": "python",
   "name": "python3"
  },
  "language_info": {
   "codemirror_mode": {
    "name": "ipython",
    "version": 3
   },
   "file_extension": ".py",
   "mimetype": "text/x-python",
   "name": "python",
   "nbconvert_exporter": "python",
   "pygments_lexer": "ipython3",
   "version": "3.8.2"
  }
 },
 "nbformat": 4,
 "nbformat_minor": 5
}
