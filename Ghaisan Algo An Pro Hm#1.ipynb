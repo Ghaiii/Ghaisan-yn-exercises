{
 "cells": [
  {
   "cell_type": "code",
   "execution_count": null,
   "id": "8ce3d7fc",
   "metadata": {
    "scrolled": true
   },
   "outputs": [],
   "source": [
    "from math import pi\n",
    "r = float(input (\"Input the radius of the circle : \"))\n",
    "print (\"The area of the circle with radius \" + str(r) + \" is: \" + str(pi * r**2))"
   ]
  },
  {
   "cell_type": "code",
   "execution_count": null,
   "id": "a25b509a",
   "metadata": {},
   "outputs": [],
   "source": [
    "    fname = input(\"Input your First Name : \")\n",
    "lname = input(\"Input your Last Name : \")\n",
    "print (\"Hello  \" + lname + \" \" + fname)"
   ]
  },
  {
   "cell_type": "code",
   "execution_count": null,
   "id": "2b560c98",
   "metadata": {},
   "outputs": [],
   "source": [
    "color_list = [\"Red\",\"Green\",\"White\" ,\"Black\"]\n",
    "print( \"%s %s\"%(color_list[0],color_list[-1]))"
   ]
  },
  {
   "cell_type": "code",
   "execution_count": null,
   "id": "2d758c7f",
   "metadata": {},
   "outputs": [],
   "source": [
    "a = int(input(\"Input an integer : \"))\n",
    "n1 = int( \"%s\" % a )\n",
    "n2 = int( \"%s%s\" % (a,a) )\n",
    "n3 = int( \"%s%s%s\" % (a,a,a) )\n",
    "print (n1+n2+n3)"
   ]
  },
  {
   "cell_type": "code",
   "execution_count": null,
   "id": "cf5b55b5",
   "metadata": {},
   "outputs": [],
   "source": [
    "pi = 3.1415926535897931\n",
    "r= 6.0\n",
    "V= 4.0/3.0pi r**3\n",
    "print('The volume of the sphere is: ',V"
   ]
  },
  {
   "cell_type": "code",
   "execution_count": null,
   "id": "83b013ea",
   "metadata": {},
   "outputs": [],
   "source": [
    "def difference(n):\n",
    "    if n <= 17:\n",
    "        return 17 - n\n",
    "    else:\n",
    "        return (n - 17) * 2 \n",
    "\n",
    "print(difference(22))\n",
    "print(difference(14))"
   ]
  },
  {
   "cell_type": "code",
   "execution_count": null,
   "id": "ed231d43",
   "metadata": {},
   "outputs": [],
   "source": [
    "def sum_thrice(x, y, z):\n",
    "\n",
    "     sum = x + y + z\n",
    "\n",
    "     if x == y == z:\n",
    "      sum = sum * 3\n",
    "     return sum\n",
    "\n",
    "print(sum_thrice(1, 2, 3))\n",
    "print(sum_thrice(3, 3, 3))"
   ]
  },
  {
   "cell_type": "code",
   "execution_count": null,
   "id": "c7f20750",
   "metadata": {},
   "outputs": [],
   "source": [
    "num = int(input(\"Enter a number: \"))\n",
    "mod = num % 2\n",
    "if mod > 0:\n",
    "    print(\"This is an odd number.\")\n",
    "else:\n",
    "    print(\"This is an even number.\")"
   ]
  },
  {
   "cell_type": "code",
   "execution_count": null,
   "id": "4f27a81c",
   "metadata": {},
   "outputs": [],
   "source": [
    "def fun(str):\n",
    "\n",
    "    vowel = ['a', 'e', 'i', 'o', 'u', 'A', 'E', 'I', 'O', 'U']\n",
    "\n",
    "    if str == vowel:\n",
    "\n",
    "        print (\"It is a vowel\")\n",
    "    else:\n",
    "        print (\"it is not vowel\")\n",
    "fun('a')\n",
    "fun('O')"
   ]
  },
  {
   "cell_type": "code",
   "execution_count": null,
   "id": "cec2099b",
   "metadata": {},
   "outputs": [],
   "source": [
    "def is_group_member(group_data, n):\n",
    "   for value in group_data:\n",
    "       if n == value:\n",
    "           return True\n",
    "   return False\n",
    "print(is_group_member([1, 5, 8, 3], 3))\n",
    "print(is_group_member([5, 8, 3], -1))"
   ]
  },
  {
   "cell_type": "code",
   "execution_count": null,
   "id": "eb13d52b",
   "metadata": {},
   "outputs": [],
   "source": [
    "def histogram( items ):\n",
    "    for n in items:\n",
    "        output = ''\n",
    "        times = n\n",
    "        while( times > 0 ):\n",
    "          output += '*'\n",
    "          times = times - 1\n",
    "        print(output)\n",
    "\n",
    "histogram([2, 3, 6, 5])"
   ]
  },
  {
   "cell_type": "code",
   "execution_count": null,
   "id": "c92b9682",
   "metadata": {},
   "outputs": [],
   "source": [
    "numbers = [\n",
    "    386, 462, 47, 418, 907, 344, 236, 375, 823, 566, 597, 978, 328, 615, 953, 345, \n",
    "    399, 162, 758, 219, 918, 237, 412, 566, 826, 248, 866, 950, 626, 949, 687, 217, \n",
    "    815, 67, 104, 58, 512, 24, 892, 894, 767, 553, 81, 379, 843, 831, 445, 742, 717, \n",
    "    958,743, 527\n",
    "    ]\n",
    "\n",
    "for x in numbers:\n",
    "    if x == 237:\n",
    "        print(x)\n",
    "        break;\n",
    "    elif x % 2 == 0:\n",
    "        print(x)"
   ]
  },
  {
   "cell_type": "code",
   "execution_count": null,
   "id": "098d23e3",
   "metadata": {},
   "outputs": [],
   "source": [
    "b = int(input(\"Input the base : \"))\n",
    "h = int(input(\"Input the height : \"))\n",
    "\n",
    "area = b*h/2\n",
    "\n",
    "print(\"area = \", area)"
   ]
  },
  {
   "cell_type": "code",
   "execution_count": null,
   "id": "95e7e2e6",
   "metadata": {},
   "outputs": [],
   "source": [
    "def lcm(x, y):\n",
    "  if x > y:\n",
    "      z = x\n",
    "  else:\n",
    "      z = y\n",
    "  while(True):\n",
    "      if((z % x == 0) and (z % y == 0)):\n",
    "          lcm = z\n",
    "          break\n",
    "      z += 1\n",
    "  return lcm\n",
    "print(lcm(4, 6))\n",
    "print(lcm(15, 17))"
   ]
  },
  {
   "cell_type": "code",
   "execution_count": null,
   "id": "b4def00e",
   "metadata": {},
   "outputs": [],
   "source": [
    "def sum_three(x, y, z):\n",
    "    if x == y or y == z or x==z:\n",
    "        sum = 0\n",
    "    else:\n",
    "        sum = x + y + z\n",
    "    return sum\n",
    "print(sum_three(2, 1, 2))\n",
    "print(sum_three(3, 2, 2))\n",
    "print(sum_three(2, 2, 2))\n",
    "print(sum_three(1, 2, 3))"
   ]
  },
  {
   "cell_type": "code",
   "execution_count": null,
   "id": "6d91951b",
   "metadata": {},
   "outputs": [],
   "source": [
    "x, y = 4, 3\n",
    "result = x * x + 2 * x * y + y * y\n",
    "print(\"({} + {}) ^ 2) = {}\".format(x, y, result))\n",
    "- 17\n",
    "amt = 10000\n",
    "int = 3.5\n",
    "years = 7\n",
    "future_value = amt((1+(0.01int)) ** years)\n",
    "print(round(future_value,2))"
   ]
  },
  {
   "cell_type": "code",
   "execution_count": null,
   "id": "f0a25c16",
   "metadata": {},
   "outputs": [],
   "source": [
    "import math\n",
    "p1 = [4, 0]\n",
    "p2 = [6, 6]\n",
    "distance = math.sqrt( ((p1[0]-p2[0])2)+((p1[1]-p2[1])2) )\n",
    "\n",
    "print(distance)"
   ]
  },
  {
   "cell_type": "code",
   "execution_count": null,
   "id": "c556b2b6",
   "metadata": {},
   "outputs": [],
   "source": [
    "n = int(input(\"Input a number: \"))\n",
    "sum_num = (n * (n + 1)) / 2\n",
    "print(\"Sum of the first\", n ,\"positive integers:\", sum_num)"
   ]
  },
  {
   "cell_type": "code",
   "execution_count": null,
   "id": "05b5a0c5",
   "metadata": {},
   "outputs": [],
   "source": [
    "print(\"Input your height: \")\n",
    "h_ft = int(input(\"Feet: \"))\n",
    "h_inch = int(input(\"Inches: \"))\n",
    "\n",
    "h_inch += h_ft * 12\n",
    "h_cm = round(h_inch * 2.54, 1)\n",
    "\n",
    "print(\"Your height is : %d cm.\" % h_cm)"
   ]
  },
  {
   "cell_type": "code",
   "execution_count": null,
   "id": "168d13e9",
   "metadata": {},
   "outputs": [],
   "source": [
    "from math import sqrt\n",
    "print(\"Input lengths of shorter triangle sides:\")\n",
    "a = float(input(\"a: \"))\n",
    "b = float(input(\"b: \"))\n",
    "c = sqrt(a2 + b2)\n",
    "print(\"The length of the hypotenuse is:\", c )"
   ]
  },
  {
   "cell_type": "code",
   "execution_count": null,
   "id": "43c602f8",
   "metadata": {},
   "outputs": [],
   "source": [
    "height = float(input(\"Input your height in Feet: \"))\n",
    "weight = float(input(\"Input your weight in Kilogram: \"))\n",
    "print(\"Your body mass index is: \", round(weight / (height * height), 2))"
   ]
  },
  {
   "cell_type": "code",
   "execution_count": null,
   "id": "007baa56",
   "metadata": {},
   "outputs": [],
   "source": [
    "print('\\nCalculate the midpoint of a line : ' )\n",
    "\n",
    "x1 = float(input('The value of x (the first endpoint) '))\n",
    "y1 = float(input('The value of y (the first endpoint) '))\n",
    "\n",
    "x2 = float(input('The value of x (the first endpoint) '))\n",
    "y2 = float(input('The value of y (the first endpoint) '))\n",
    "\n",
    "x_m_point = (x1 + x2)/2\n",
    "y_m_point = (y1 + y2)/2\n",
    "print();\n",
    "print(\"The midpoint of line is : \" )\n",
    "print( \"The midpoint's x value is: \",x_m_point)\n",
    "print( \"The midpoint's y value is: \",y_m_point)\n",
    "print(); \n"
   ]
  },
  {
   "cell_type": "code",
   "execution_count": 2,
   "id": "95b484da",
   "metadata": {},
   "outputs": [
    {
     "name": "stdout",
     "output_type": "stream",
     "text": [
      "1505,1540,1575,1610,1645,1680,1715,1750,1785,1820,1855,1890,1925,1960,1995,2030,2065,2100,2135,2170,2205,2240,2275,2310,2345,2380,2415,2450,2485,2520,2555,2590,2625,2660,2695\n"
     ]
    }
   ],
   "source": [
    "nl=[]\n",
    "for x in range(1500, 2701):\n",
    "    if (x%7==0) and (x%5==0):\n",
    "        nl.append(str(x))\n",
    "print (','.join(nl))"
   ]
  },
  {
   "cell_type": "code",
   "execution_count": null,
   "id": "308fb06b",
   "metadata": {},
   "outputs": [],
   "source": []
  }
 ],
 "metadata": {
  "kernelspec": {
   "display_name": "Python 3 (ipykernel)",
   "language": "python",
   "name": "python3"
  },
  "language_info": {
   "codemirror_mode": {
    "name": "ipython",
    "version": 3
   },
   "file_extension": ".py",
   "mimetype": "text/x-python",
   "name": "python",
   "nbconvert_exporter": "python",
   "pygments_lexer": "ipython3",
   "version": "3.8.2"
  }
 },
 "nbformat": 4,
 "nbformat_minor": 5
}
